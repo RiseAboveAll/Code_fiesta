{
  "nbformat": 4,
  "nbformat_minor": 0,
  "metadata": {
    "colab": {
      "name": "Pytorch-LinearRegression.ipynb",
      "provenance": [],
      "authorship_tag": "ABX9TyOOTJlfaU6YnnpH6JBWajRs",
      "include_colab_link": true
    },
    "kernelspec": {
      "name": "python3",
      "display_name": "Python 3"
    }
  },
  "cells": [
    {
      "cell_type": "markdown",
      "metadata": {
        "id": "view-in-github",
        "colab_type": "text"
      },
      "source": [
        "<a href=\"https://colab.research.google.com/github/RiseAboveAll/Code_fiesta.gihub.io/blob/master/Pytorch_LinearRegression.ipynb\" target=\"_parent\"><img src=\"https://colab.research.google.com/assets/colab-badge.svg\" alt=\"Open In Colab\"/></a>"
      ]
    },
    {
      "cell_type": "code",
      "metadata": {
        "id": "BxkMwXxzfgdc",
        "colab_type": "code",
        "colab": {}
      },
      "source": [
        "import torch\n",
        "from torch import nn\n",
        "import numpy as np\n",
        "import matplotlib.pyplot as plt"
      ],
      "execution_count": 1,
      "outputs": []
    },
    {
      "cell_type": "markdown",
      "metadata": {
        "id": "m268VrzbDV1i",
        "colab_type": "text"
      },
      "source": [
        "# Linear Regression - Basic"
      ]
    },
    {
      "cell_type": "code",
      "metadata": {
        "id": "EQuyViBBfxHa",
        "colab_type": "code",
        "colab": {}
      },
      "source": [
        "# Equation of Line y=w*x + b\n",
        "\n",
        "w=torch.tensor(3.0,requires_grad=True)\n",
        "b=torch.tensor(0.01,requires_grad=True)\n",
        "\n"
      ],
      "execution_count": null,
      "outputs": []
    },
    {
      "cell_type": "code",
      "metadata": {
        "id": "Yd0NACj_gzqZ",
        "colab_type": "code",
        "colab": {}
      },
      "source": [
        "def forward(x):\n",
        "  y=w*x+b\n",
        "  return y"
      ],
      "execution_count": null,
      "outputs": []
    },
    {
      "cell_type": "code",
      "metadata": {
        "id": "lR_MqPCig4ta",
        "colab_type": "code",
        "colab": {
          "base_uri": "https://localhost:8080/"
        },
        "outputId": "c210ddf1-6b60-457f-9ae8-cc686a4dfccc"
      },
      "source": [
        "x=torch.tensor(2.0)\n",
        "forward(x)"
      ],
      "execution_count": null,
      "outputs": [
        {
          "output_type": "execute_result",
          "data": {
            "text/plain": [
              "tensor(6.0100, grad_fn=<AddBackward0>)"
            ]
          },
          "metadata": {
            "tags": []
          },
          "execution_count": 4
        }
      ]
    },
    {
      "cell_type": "code",
      "metadata": {
        "id": "rykiSAaBhEuP",
        "colab_type": "code",
        "colab": {
          "base_uri": "https://localhost:8080/"
        },
        "outputId": "e733f39f-4139-45bd-96af-0f46e6ca7bbd"
      },
      "source": [
        "x=torch.tensor([[2.0],[3]])\n",
        "forward(x)"
      ],
      "execution_count": null,
      "outputs": [
        {
          "output_type": "execute_result",
          "data": {
            "text/plain": [
              "tensor([[6.0100],\n",
              "        [9.0100]], grad_fn=<AddBackward0>)"
            ]
          },
          "metadata": {
            "tags": []
          },
          "execution_count": 5
        }
      ]
    },
    {
      "cell_type": "markdown",
      "metadata": {
        "id": "vjiMroxXDZZr",
        "colab_type": "text"
      },
      "source": [
        "# Linear Class"
      ]
    },
    {
      "cell_type": "code",
      "metadata": {
        "id": "SvkigYs4hWF2",
        "colab_type": "code",
        "colab": {
          "base_uri": "https://localhost:8080/",
          "height": 34
        },
        "outputId": "a7ed79e8-0b3b-4a8b-d29e-179f09d0e9c7"
      },
      "source": [
        "#@title Set seed for generating random numbers , when we construct model using nn.Linear , it will be given random values for weights and biases for Linear class.Hence to make random values consistent we initializes seed  \n",
        "torch.manual_seed(1)"
      ],
      "execution_count": null,
      "outputs": [
        {
          "output_type": "execute_result",
          "data": {
            "text/plain": [
              "<torch._C.Generator at 0x7f80076a0550>"
            ]
          },
          "metadata": {
            "tags": []
          },
          "execution_count": 6
        }
      ]
    },
    {
      "cell_type": "code",
      "metadata": {
        "id": "o-XlRo6ZEgGN",
        "colab_type": "code",
        "colab": {}
      },
      "source": [
        "# Create Linear Object\n",
        "model=nn.Linear(in_features=1,out_features=1,bias=True)"
      ],
      "execution_count": null,
      "outputs": []
    },
    {
      "cell_type": "code",
      "metadata": {
        "id": "Hu4AwDb8E53f",
        "colab_type": "code",
        "colab": {
          "base_uri": "https://localhost:8080/",
          "height": 68
        },
        "outputId": "755b6c1e-ac0a-4d0a-eb36-7595088f3eb0"
      },
      "source": [
        "print(model.bias,model.weight)"
      ],
      "execution_count": null,
      "outputs": [
        {
          "output_type": "stream",
          "text": [
            "Parameter containing:\n",
            "tensor([-0.4414], requires_grad=True) Parameter containing:\n",
            "tensor([[0.5153]], requires_grad=True)\n"
          ],
          "name": "stdout"
        }
      ]
    },
    {
      "cell_type": "code",
      "metadata": {
        "id": "jVqHGkn3FBJv",
        "colab_type": "code",
        "colab": {
          "base_uri": "https://localhost:8080/",
          "height": 51
        },
        "outputId": "3e33e6ee-65d6-4703-a3e3-9b24e2eb91df"
      },
      "source": [
        "x=torch.tensor([[2.0],[3.3]])\n",
        "print(model(x))"
      ],
      "execution_count": null,
      "outputs": [
        {
          "output_type": "stream",
          "text": [
            "tensor([[0.5891],\n",
            "        [1.2590]], grad_fn=<AddmmBackward>)\n"
          ],
          "name": "stdout"
        }
      ]
    },
    {
      "cell_type": "code",
      "metadata": {
        "id": "5fO1TTMCOKUp",
        "colab_type": "code",
        "colab": {}
      },
      "source": [
        ""
      ],
      "execution_count": null,
      "outputs": []
    },
    {
      "cell_type": "markdown",
      "metadata": {
        "id": "3OrXgy2tIYAd",
        "colab_type": "text"
      },
      "source": [
        "# Custom Module"
      ]
    },
    {
      "cell_type": "code",
      "metadata": {
        "id": "hGnhC1i3IZqe",
        "colab_type": "code",
        "colab": {}
      },
      "source": [
        "# We will use inheritance that this class inherit the base class nn.Module, we inherit methods from this parent class \n",
        "class LR(nn.Module):\n",
        "  def __init__(self,input_size=1,output_size=1):# __init__ is a constructor \n",
        "    # For inheritance from parent class use super()\n",
        "    super().__init__()\n",
        "    #object we want to initialize\n",
        "    self.Linear=nn.Linear(input_size,output_size)\n",
        "  def forward(self,x):\n",
        "    pred=self.Linear(x)\n",
        "    return pred\n",
        "    \n"
      ],
      "execution_count": 2,
      "outputs": []
    },
    {
      "cell_type": "code",
      "metadata": {
        "id": "SP-m1fOtKrmf",
        "colab_type": "code",
        "colab": {
          "base_uri": "https://localhost:8080/",
          "height": 68
        },
        "outputId": "715bfeaa-402a-4666-a66a-58f7df7bc2dc"
      },
      "source": [
        "torch.manual_seed(1)\n",
        "model=LR(1,1)\n",
        "print(list(model.parameters()))"
      ],
      "execution_count": 3,
      "outputs": [
        {
          "output_type": "stream",
          "text": [
            "[Parameter containing:\n",
            "tensor([[0.5153]], requires_grad=True), Parameter containing:\n",
            "tensor([-0.4414], requires_grad=True)]\n"
          ],
          "name": "stdout"
        }
      ]
    },
    {
      "cell_type": "code",
      "metadata": {
        "id": "sBVMCszzK1Su",
        "colab_type": "code",
        "colab": {
          "base_uri": "https://localhost:8080/",
          "height": 34
        },
        "outputId": "c744ce5d-dafa-44a9-f1a2-1c4cc4306196"
      },
      "source": [
        "x=torch.tensor([2.1])\n",
        "model.forward(x)"
      ],
      "execution_count": 4,
      "outputs": [
        {
          "output_type": "execute_result",
          "data": {
            "text/plain": [
              "tensor([0.6407], grad_fn=<AddBackward0>)"
            ]
          },
          "metadata": {
            "tags": []
          },
          "execution_count": 4
        }
      ]
    },
    {
      "cell_type": "code",
      "metadata": {
        "id": "zVIgWkopL06s",
        "colab_type": "code",
        "colab": {}
      },
      "source": [
        ""
      ],
      "execution_count": null,
      "outputs": []
    },
    {
      "cell_type": "markdown",
      "metadata": {
        "id": "GI9aYzx52Q7L",
        "colab_type": "text"
      },
      "source": [
        "# Creating Dataset"
      ]
    },
    {
      "cell_type": "code",
      "metadata": {
        "id": "M0JnDyhX2TAh",
        "colab_type": "code",
        "colab": {}
      },
      "source": [
        "#torch.randn(rows,cols)\n",
        "x=torch.randn(100,1)*10\n",
        "y=x + torch.randn(100,1)"
      ],
      "execution_count": 2,
      "outputs": []
    },
    {
      "cell_type": "code",
      "metadata": {
        "id": "hc26brWl7Een",
        "colab_type": "code",
        "colab": {
          "base_uri": "https://localhost:8080/",
          "height": 283
        },
        "outputId": "1d2a0432-9f27-4f69-a29f-ac5378ba8642"
      },
      "source": [
        "plt.scatter(x,y)"
      ],
      "execution_count": 3,
      "outputs": [
        {
          "output_type": "execute_result",
          "data": {
            "text/plain": [
              "<matplotlib.collections.PathCollection at 0x7f42a74937b8>"
            ]
          },
          "metadata": {
            "tags": []
          },
          "execution_count": 3
        },
        {
          "output_type": "display_data",
          "data": {
            "image/png": "[encoded data removed]",
            "text/plain": [
              "<Figure size 432x288 with 1 Axes>"
            ]
          },
          "metadata": {
            "tags": [],
            "needs_background": "light"
          }
        }
      ]
    },
    {
      "cell_type": "code",
      "metadata": {
        "id": "HJdZye2m8ept",
        "colab_type": "code",
        "colab": {}
      },
      "source": [
        "# We will use inheritance that this class inherit the base class nn.Module, we inherit methods from this parent class \n",
        "class LR(nn.Module):\n",
        "  def __init__(self,input_size=1,output_size=1):# __init__ is a constructor \n",
        "    # For inheritance from parent class use super()\n",
        "    super().__init__()\n",
        "    #object we want to initialize\n",
        "    self.Linear=nn.Linear(input_size,output_size)\n",
        "  def forward(self,x):\n",
        "    pred=self.Linear(x)\n",
        "    return pred\n",
        "    \n"
      ],
      "execution_count": 4,
      "outputs": []
    },
    {
      "cell_type": "code",
      "metadata": {
        "id": "-vqA6tW0WSdz",
        "colab_type": "code",
        "colab": {
          "base_uri": "https://localhost:8080/",
          "height": 68
        },
        "outputId": "886141d1-7e65-4c09-f8b1-e8359140f83e"
      },
      "source": [
        "torch.manual_seed(1)\n",
        "model=LR(1,1)\n",
        "[w,b]=model.parameters()\n",
        "print(w,b)"
      ],
      "execution_count": 5,
      "outputs": [
        {
          "output_type": "stream",
          "text": [
            "Parameter containing:\n",
            "tensor([[0.5153]], requires_grad=True) Parameter containing:\n",
            "tensor([-0.4414], requires_grad=True)\n"
          ],
          "name": "stdout"
        }
      ]
    },
    {
      "cell_type": "code",
      "metadata": {
        "id": "OrvD33oHWfgV",
        "colab_type": "code",
        "colab": {}
      },
      "source": [
        "#@title Adding .item() method returns python numbers\n",
        "w1=w[0][0].item() # alternative is w[0,0]\n",
        "b1=b[0].item()"
      ],
      "execution_count": 6,
      "outputs": []
    },
    {
      "cell_type": "code",
      "metadata": {
        "id": "69uLSY7OWkcm",
        "colab_type": "code",
        "colab": {}
      },
      "source": [
        "def get_params():\n",
        "  return (w[0,0].item(),b[0].item())"
      ],
      "execution_count": 7,
      "outputs": []
    },
    {
      "cell_type": "code",
      "metadata": {
        "id": "9Jfg68YAWlL3",
        "colab_type": "code",
        "colab": {}
      },
      "source": [
        "def plot_fit(title):\n",
        "  plt.title=title\n",
        "  w1,b1=get_params()\n",
        "  x1=np.array([-30,30])\n",
        "  y1=w1*x1+b1\n",
        "  plt.plot(x1,y1,'r')\n",
        "  plt.scatter(x,y)\n",
        "  plt.show()"
      ],
      "execution_count": 8,
      "outputs": []
    },
    {
      "cell_type": "code",
      "metadata": {
        "id": "jG3aaCkQYciQ",
        "colab_type": "code",
        "colab": {
          "base_uri": "https://localhost:8080/",
          "height": 266
        },
        "outputId": "3cdfda9f-8379-4b8a-f816-225692b913bf"
      },
      "source": [
        "plot_fit('Initial Model')"
      ],
      "execution_count": 9,
      "outputs": [
        {
          "output_type": "display_data",
          "data": {
            "image/png": "[encoded data removed]",
            "text/plain": [
              "<Figure size 432x288 with 1 Axes>"
            ]
          },
          "metadata": {
            "tags": [],
            "needs_background": "light"
          }
        }
      ]
    },
    {
      "cell_type": "markdown",
      "metadata": {
        "id": "6J-wnCXEYmaO",
        "colab_type": "text"
      },
      "source": [
        " **This is not the line which best fits the data , we need to use optimisation model to get best fit line**"
      ]
    },
    {
      "cell_type": "markdown",
      "metadata": {
        "id": "cqohPc8uY5OU",
        "colab_type": "text"
      },
      "source": [
        "# Loss Function"
      ]
    },
    {
      "cell_type": "markdown",
      "metadata": {
        "id": "NdNNXdPOD9Nv",
        "colab_type": "text"
      },
      "source": [
        "- Gradient of the error function should take us in the direction of the greatest increase in error , so naturally moving towards negative of the cost function , we move in the direction of dreatest descent.\n",
        "\n",
        "- Error depends on the weights and bias\n",
        "\n",
        "- Hence for gradient descent we take partial derivative of error function wrt weights(w) and bias (b). dL/dw=-2x(y-y_hat);dL/db=-2(y-y_hat)\n",
        "\n",
        "- w_u=w_o-(a*dL/dw) ; b_u=b_o - (a*dL/db)\n",
        "\n",
        "- This Gradient Descent is batch gradient descent which updates the weights and bias of whole data set, where as **Stochastic Gradient Descent** minimizes the total loss one sample at a time , it reaches convergence much faster as it frequently updates the weights of the model of the same sample size \n",
        "\n"
      ]
    },
    {
      "cell_type": "code",
      "metadata": {
        "id": "1yRgYAbXGlB-",
        "colab_type": "code",
        "colab": {}
      },
      "source": [
        "criterion=nn.MSELoss()\n",
        "optimizer=torch.optim.SGD(model.parameters(),lr=.001,momentum=.07)\n"
      ],
      "execution_count": 10,
      "outputs": []
    },
    {
      "cell_type": "markdown",
      "metadata": {
        "id": "BcHXE7UhHo4l",
        "colab_type": "text"
      },
      "source": [
        "As the number of epochs increases , the more time it is able to update the weights of the neural network, which hence minimizes the error and produces optimal results!\n",
        "\n",
        "If it is too many epochs, it can lead to overfitting !\n",
        "\n"
      ]
    },
    {
      "cell_type": "code",
      "metadata": {
        "id": "PzAfVhXwYf6c",
        "colab_type": "code",
        "colab": {
          "base_uri": "https://localhost:8080/",
          "height": 1000
        },
        "outputId": "d8c0872a-2e5b-4039-f4ad-7f409288a847"
      },
      "source": [
        "epochs=100\n",
        "losses=[]\n",
        "for i in range(epochs):\n",
        "  \n",
        "  y_pred=model.forward(x)\n",
        "  loss= criterion(y_pred,y)\n",
        "  print('epoch :',i,'Loss :',loss.item())\n",
        "  losses.append(loss)\n",
        "  #compute the gradient of loss wrt parameters\n",
        "  optimizer.zero_grad()\n",
        "  loss.backward()\n",
        "  #update the parameters\n",
        "  optimizer.step()\n",
        "\n"
      ],
      "execution_count": 11,
      "outputs": [
        {
          "output_type": "stream",
          "text": [
            "epoch : 0 Loss : 22.276521682739258\n",
            "epoch : 1 Loss : 15.575677871704102\n",
            "epoch : 2 Loss : 10.660954475402832\n",
            "epoch : 3 Loss : 7.405991077423096\n",
            "epoch : 4 Loss : 5.272241115570068\n",
            "epoch : 5 Loss : 3.8748481273651123\n",
            "epoch : 6 Loss : 2.9596266746520996\n",
            "epoch : 7 Loss : 2.360037326812744\n",
            "epoch : 8 Loss : 1.9670552015304565\n",
            "epoch : 9 Loss : 1.7093141078948975\n",
            "epoch : 10 Loss : 1.5401004552841187\n",
            "epoch : 11 Loss : 1.428836464881897\n",
            "epoch : 12 Loss : 1.3555076122283936\n",
            "epoch : 13 Loss : 1.307011604309082\n",
            "epoch : 14 Loss : 1.2747728824615479\n",
            "epoch : 15 Loss : 1.253177285194397\n",
            "epoch : 16 Loss : 1.2385514974594116\n",
            "epoch : 17 Loss : 1.2284891605377197\n",
            "epoch : 18 Loss : 1.2214163541793823\n",
            "epoch : 19 Loss : 1.216302752494812\n",
            "epoch : 20 Loss : 1.2124732732772827\n",
            "epoch : 21 Loss : 1.209486484527588\n",
            "epoch : 22 Loss : 1.207053780555725\n",
            "epoch : 23 Loss : 1.2049853801727295\n",
            "epoch : 24 Loss : 1.2031577825546265\n",
            "epoch : 25 Loss : 1.2014892101287842\n",
            "epoch : 26 Loss : 1.1999273300170898\n",
            "epoch : 27 Loss : 1.1984376907348633\n",
            "epoch : 28 Loss : 1.1969964504241943\n",
            "epoch : 29 Loss : 1.1955891847610474\n",
            "epoch : 30 Loss : 1.1942063570022583\n",
            "epoch : 31 Loss : 1.1928415298461914\n",
            "epoch : 32 Loss : 1.1914902925491333\n",
            "epoch : 33 Loss : 1.1901495456695557\n",
            "epoch : 34 Loss : 1.1888185739517212\n",
            "epoch : 35 Loss : 1.187495231628418\n",
            "epoch : 36 Loss : 1.1861785650253296\n",
            "epoch : 37 Loss : 1.1848689317703247\n",
            "epoch : 38 Loss : 1.1835652589797974\n",
            "epoch : 39 Loss : 1.1822681427001953\n",
            "epoch : 40 Loss : 1.1809765100479126\n",
            "epoch : 41 Loss : 1.1796905994415283\n",
            "epoch : 42 Loss : 1.178410291671753\n",
            "epoch : 43 Loss : 1.177135705947876\n",
            "epoch : 44 Loss : 1.1758663654327393\n",
            "epoch : 45 Loss : 1.174602746963501\n",
            "epoch : 46 Loss : 1.173344612121582\n",
            "epoch : 47 Loss : 1.1720917224884033\n",
            "epoch : 48 Loss : 1.170844316482544\n",
            "epoch : 49 Loss : 1.1696021556854248\n",
            "epoch : 50 Loss : 1.1683653593063354\n",
            "epoch : 51 Loss : 1.1671340465545654\n",
            "epoch : 52 Loss : 1.165907621383667\n",
            "epoch : 53 Loss : 1.164686679840088\n",
            "epoch : 54 Loss : 1.163470983505249\n",
            "epoch : 55 Loss : 1.1622604131698608\n",
            "epoch : 56 Loss : 1.1610554456710815\n",
            "epoch : 57 Loss : 1.1598553657531738\n",
            "epoch : 58 Loss : 1.1586605310440063\n",
            "epoch : 59 Loss : 1.1574705839157104\n",
            "epoch : 60 Loss : 1.1562858819961548\n",
            "epoch : 61 Loss : 1.1551060676574707\n",
            "epoch : 62 Loss : 1.1539316177368164\n",
            "epoch : 63 Loss : 1.1527621746063232\n",
            "epoch : 64 Loss : 1.151597499847412\n",
            "epoch : 65 Loss : 1.1504381895065308\n",
            "epoch : 66 Loss : 1.149283766746521\n",
            "epoch : 67 Loss : 1.1481341123580933\n",
            "epoch : 68 Loss : 1.1469894647598267\n",
            "epoch : 69 Loss : 1.1458499431610107\n",
            "epoch : 70 Loss : 1.1447150707244873\n",
            "epoch : 71 Loss : 1.1435850858688354\n",
            "epoch : 72 Loss : 1.1424599885940552\n",
            "epoch : 73 Loss : 1.1413397789001465\n",
            "epoch : 74 Loss : 1.1402239799499512\n",
            "epoch : 75 Loss : 1.1391135454177856\n",
            "epoch : 76 Loss : 1.138007640838623\n",
            "epoch : 77 Loss : 1.1369062662124634\n",
            "epoch : 78 Loss : 1.1358102560043335\n",
            "epoch : 79 Loss : 1.1347182989120483\n",
            "epoch : 80 Loss : 1.1336313486099243\n",
            "epoch : 81 Loss : 1.1325489282608032\n",
            "epoch : 82 Loss : 1.1314711570739746\n",
            "epoch : 83 Loss : 1.130397915840149\n",
            "epoch : 84 Loss : 1.1293293237686157\n",
            "epoch : 85 Loss : 1.128265380859375\n",
            "epoch : 86 Loss : 1.1272060871124268\n",
            "epoch : 87 Loss : 1.126151204109192\n",
            "epoch : 88 Loss : 1.1251009702682495\n",
            "epoch : 89 Loss : 1.1240551471710205\n",
            "epoch : 90 Loss : 1.1230138540267944\n",
            "epoch : 91 Loss : 1.1219772100448608\n",
            "epoch : 92 Loss : 1.1209447383880615\n",
            "epoch : 93 Loss : 1.1199170351028442\n",
            "epoch : 94 Loss : 1.1188932657241821\n",
            "epoch : 95 Loss : 1.117874264717102\n",
            "epoch : 96 Loss : 1.1168594360351562\n",
            "epoch : 97 Loss : 1.1158488988876343\n",
            "epoch : 98 Loss : 1.1148430109024048\n",
            "epoch : 99 Loss : 1.1138412952423096\n"
          ],
          "name": "stdout"
        }
      ]
    },
    {
      "cell_type": "code",
      "metadata": {
        "id": "Zfphzil1J0NG",
        "colab_type": "code",
        "colab": {
          "base_uri": "https://localhost:8080/",
          "height": 296
        },
        "outputId": "8d6dfbc9-17bf-4a5a-b326-0b3bf41c5d0b"
      },
      "source": [
        "plt.plot(range(epochs),losses)\n",
        "plt.xlabel('Epochs')\n",
        "plt.ylabel('Loss')"
      ],
      "execution_count": 12,
      "outputs": [
        {
          "output_type": "execute_result",
          "data": {
            "text/plain": [
              "Text(0, 0.5, 'Loss')"
            ]
          },
          "metadata": {
            "tags": []
          },
          "execution_count": 12
        },
        {
          "output_type": "display_data",
          "data": {
            "image/png": "[encoded data removed]",
            "text/plain": [
              "<Figure size 432x288 with 1 Axes>"
            ]
          },
          "metadata": {
            "tags": [],
            "needs_background": "light"
          }
        }
      ]
    },
    {
      "cell_type": "code",
      "metadata": {
        "id": "5jYjk1qtLvRh",
        "colab_type": "code",
        "colab": {
          "base_uri": "https://localhost:8080/",
          "height": 265
        },
        "outputId": "9c973a95-e8eb-45c0-dfcf-d710fb3c84b4"
      },
      "source": [
        "plot_fit('Trained Model')"
      ],
      "execution_count": 13,
      "outputs": [
        {
          "output_type": "display_data",
          "data": {
            "image/png": "[encoded data removed]",
            "text/plain": [
              "<Figure size 432x288 with 1 Axes>"
            ]
          },
          "metadata": {
            "tags": [],
            "needs_background": "light"
          }
        }
      ]
    },
    {
      "cell_type": "code",
      "metadata": {
        "id": "ITlc7u8JY3xO",
        "colab_type": "code",
        "colab": {}
      },
      "source": [
        ""
      ],
      "execution_count": null,
      "outputs": []
    }
  ]
}